{
 "cells": [
  {
   "cell_type": "code",
   "execution_count": 38,
   "metadata": {},
   "outputs": [
    {
     "data": {
      "text/plain": [
       "True"
      ]
     },
     "execution_count": 38,
     "metadata": {},
     "output_type": "execute_result"
    }
   ],
   "source": [
    "sentence = \"The quick brown fox jumped over the lazy dog\"\n",
    "myword = \"FOX\"\n",
    "dashes=\"---\"\n",
    "\n",
    "csvdata=\"piersall,scott,n00003039@uf.edu,123 mains street,jacksonville,fl,32219,904-555-1212\"\n",
    "\n",
    "\n",
    "\n",
    "#myword.lower() in sentence.lower()\n",
    "myword.upper() in sentence.upper()\n"
   ]
  },
  {
   "cell_type": "code",
   "execution_count": 24,
   "metadata": {},
   "outputs": [
    {
     "name": "stdout",
     "output_type": "stream",
     "text": [
      "The quick brown fox \n",
      "jumped over the lazy dog\n"
     ]
    }
   ],
   "source": [
    "sentence[:40]\n",
    "\n",
    "print(sentence[:20])\n",
    "print(sentence[20:])\n"
   ]
  },
  {
   "cell_type": "code",
   "execution_count": 41,
   "metadata": {},
   "outputs": [
    {
     "name": "stdout",
     "output_type": "stream",
     "text": [
      "piersall\n",
      "scott\n",
      "n00003039@uf.edu\n",
      "123 mains street\n",
      "jacksonville\n",
      "fl\n",
      "32219\n",
      "904-555-1212\n"
     ]
    }
   ],
   "source": [
    "\n",
    "#dashes.join([\"this\", \"is\", sentence, myword])\n",
    "\n",
    "\n",
    "#csvdata.split(\",\")\n",
    "\n",
    "for field in csvdata.split(\",\"):\n",
    "    print(field)\n",
    "\n",
    "\n"
   ]
  },
  {
   "cell_type": "code",
   "execution_count": 47,
   "metadata": {},
   "outputs": [
    {
     "name": "stdout",
     "output_type": "stream",
     "text": [
      "aaa21aaaa\n"
     ]
    }
   ],
   "source": [
    "print(\"{:a^9d}\".format(21))"
   ]
  },
  {
   "cell_type": "code",
   "execution_count": 48,
   "metadata": {},
   "outputs": [
    {
     "data": {
      "text/plain": [
       "'tHIS IS a sENTENCE wHERE eVERY wORD iS cAPITALIZED'"
      ]
     },
     "execution_count": 48,
     "metadata": {},
     "output_type": "execute_result"
    }
   ],
   "source": [
    "weird = \"This is A Sentence Where Every Word Is Capitalized\"\n",
    "\n",
    "weird.swapcase()"
   ]
  }
 ],
 "metadata": {
  "kernelspec": {
   "display_name": "intropy",
   "language": "python",
   "name": "python3"
  },
  "language_info": {
   "codemirror_mode": {
    "name": "ipython",
    "version": 3
   },
   "file_extension": ".py",
   "mimetype": "text/x-python",
   "name": "python",
   "nbconvert_exporter": "python",
   "pygments_lexer": "ipython3",
   "version": "3.12.8"
  }
 },
 "nbformat": 4,
 "nbformat_minor": 2
}
