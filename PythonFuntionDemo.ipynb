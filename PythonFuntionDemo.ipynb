{
 "cells": [
  {
   "cell_type": "code",
   "execution_count": 6,
   "metadata": {},
   "outputs": [],
   "source": [
    "def print_square( value, show_label = 'NO' ):\n",
    "    if show_label == \"YES\":\n",
    "        print(\" The squuare of \", value, \"is\")\n",
    "    print( value * value)\n",
    "    return"
   ]
  },
  {
   "cell_type": "code",
   "execution_count": 15,
   "metadata": {},
   "outputs": [],
   "source": [
    "#\n",
    "# Write two functions that acceppts two values and print all of the odd integers between the two values\n",
    "#\n",
    "# print_odds_between_while\n",
    "# print_odds_between_for\n",
    "def print_odds_between_while( start, end):\n",
    "    if start >= end:\n",
    "        return\n",
    "    temp = start\n",
    "    while temp < end:\n",
    "        if temp % 2 != 0:\n",
    "            print(temp)\n",
    "        temp += 1\n",
    "    return        \n",
    "\n",
    "\n",
    "\n"
   ]
  },
  {
   "cell_type": "code",
   "execution_count": 21,
   "metadata": {},
   "outputs": [],
   "source": [
    "def print_odds_between_for( start, end):\n",
    "    for i in range( start, end, 1):\n",
    "        if i % 2 != 0:\n",
    "            print(i)\n",
    "    return"
   ]
  },
  {
   "cell_type": "code",
   "execution_count": 25,
   "metadata": {},
   "outputs": [
    {
     "name": "stdout",
     "output_type": "stream",
     "text": [
      "-19\n",
      "-17\n",
      "-15\n",
      "-13\n",
      "-11\n"
     ]
    }
   ],
   "source": [
    "print_odds_between_for(-20, -10)"
   ]
  },
  {
   "cell_type": "code",
   "execution_count": 16,
   "metadata": {},
   "outputs": [
    {
     "name": "stdout",
     "output_type": "stream",
     "text": [
      "1\n",
      "3\n",
      "5\n",
      "7\n",
      "9\n"
     ]
    }
   ],
   "source": [
    "print_odds_between_while( 1 , 10)"
   ]
  },
  {
   "cell_type": "code",
   "execution_count": 28,
   "metadata": {},
   "outputs": [],
   "source": [
    "#\n",
    "# Write a function that accepts ttwo parameters: start, end\n",
    "# and returns a list containing all values between start and end \n",
    "# the end value should be included in the list!\n",
    "#\n",
    "# get_list_between(start, end)\n",
    "def get_list_between(start, end, increment=1):\n",
    "    return list( range(start, end+1, increment) )\n",
    "\n"
   ]
  },
  {
   "cell_type": "code",
   "execution_count": 30,
   "metadata": {},
   "outputs": [
    {
     "name": "stdout",
     "output_type": "stream",
     "text": [
      "[1, 4, 7, 10, 13, 16, 19, 22, 25]\n"
     ]
    }
   ],
   "source": [
    "print( get_list_between(1, 25,3))"
   ]
  }
 ],
 "metadata": {
  "kernelspec": {
   "display_name": "intropy",
   "language": "python",
   "name": "python3"
  },
  "language_info": {
   "codemirror_mode": {
    "name": "ipython",
    "version": 3
   },
   "file_extension": ".py",
   "mimetype": "text/x-python",
   "name": "python",
   "nbconvert_exporter": "python",
   "pygments_lexer": "ipython3",
   "version": "3.12.8"
  }
 },
 "nbformat": 4,
 "nbformat_minor": 2
}
