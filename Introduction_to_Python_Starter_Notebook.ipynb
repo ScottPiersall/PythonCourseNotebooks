{
 "cells": [
  {
   "cell_type": "code",
   "execution_count": 8,
   "metadata": {},
   "outputs": [],
   "source": [
    "#\n",
    "# Welcome to Introduction to Python\n",
    "# Spring 2025\n",
    "# Instructor: Scott Piersall\n",
    "# \n",
    "# This is a cell. It contains nothing except comments\n",
    "#\n",
    "#\n",
    "#\n",
    "import math"
   ]
  },
  {
   "cell_type": "code",
   "execution_count": 23,
   "metadata": {},
   "outputs": [],
   "source": [
    "first_name = \"Scott\"\n",
    "last_name = \"Piersall\"\n",
    "first_name = 7"
   ]
  },
  {
   "cell_type": "code",
   "execution_count": 30,
   "metadata": {},
   "outputs": [
    {
     "name": "stdout",
     "output_type": "stream",
     "text": [
      "Hello....everyone....this....is....our....first....python....codeAnother print statement\n",
      "Scott Piersall\n",
      "14\n"
     ]
    }
   ],
   "source": [
    "print(\"Hello\", \"everyone\", \"this\",\"is\",\"our\",\"first\",\"python\",\"code\",sep=\"....\", end=\"\")\n",
    "print(\"Another print statement\",sep=\"....\")\n",
    "full_name = first_name + \" \" + last_name\n",
    "print(full_name)\n",
    "print( len(full_name))\n",
    "\n"
   ]
  },
  {
   "cell_type": "code",
   "execution_count": 37,
   "metadata": {},
   "outputs": [
    {
     "name": "stdout",
     "output_type": "stream",
     "text": [
      "1.0\n",
      "1\n"
     ]
    }
   ],
   "source": [
    "myvariable = 1.0\n",
    "myint = int(myvariable)\n",
    "\n",
    "# Explicitly\n",
    "#\n",
    "#    \"1.0\"  -> 1.0   -> 1 \n",
    "\n",
    "\n",
    "\n",
    "\n",
    "myfloat = float(myvariable)\n",
    "print(myfloat)\n",
    "myint = int(myfloat)\n",
    "print(myint)"
   ]
  },
  {
   "cell_type": "code",
   "execution_count": 3,
   "metadata": {},
   "outputs": [
    {
     "name": "stdout",
     "output_type": "stream",
     "text": [
      "62.5\n"
     ]
    }
   ],
   "source": [
    "quantity = 5\n",
    "price = 12.5\n",
    "total = quantity * price\n",
    "print(total)"
   ]
  },
  {
   "cell_type": "code",
   "execution_count": 28,
   "metadata": {},
   "outputs": [
    {
     "name": "stdout",
     "output_type": "stream",
     "text": [
      "91203649505578748339175058929782707415429517968407568706519198862729315493934967323534446525694408059201851100656387779319023135436895679885671495970693595888157005962548224818227594043453589160690159089223704498029760860815807117381616141099953905026267735435135325907845307682547855231736476644550255161653111688375857251084072023165331480587690216346888851960151618646606369386381271684188711574298874860775353006361178169142763702097395977500086448653256698455500244904606388262985909884593291596655006969740497879683971405029296875\n"
     ]
    }
   ],
   "source": [
    "a = 5555555555\n",
    "b = 55\n",
    "c = a**b\n",
    "print(c)"
   ]
  },
  {
   "cell_type": "code",
   "execution_count": 5,
   "metadata": {},
   "outputs": [
    {
     "name": "stdout",
     "output_type": "stream",
     "text": [
      "2\n",
      "1\n"
     ]
    }
   ],
   "source": [
    "first = 9\n",
    "last = 4\n",
    "result = first // last \n",
    "modulo = first % last\n",
    "print(result)\n",
    "print(modulo)\n"
   ]
  },
  {
   "cell_type": "code",
   "execution_count": 14,
   "metadata": {},
   "outputs": [
    {
     "name": "stdout",
     "output_type": "stream",
     "text": [
      "2.718281828459045\n"
     ]
    }
   ],
   "source": [
    "print(math.e)"
   ]
  },
  {
   "cell_type": "code",
   "execution_count": 49,
   "metadata": {},
   "outputs": [
    {
     "name": "stdout",
     "output_type": "stream",
     "text": [
      "3.141592653589793\n",
      "3.141592654\n",
      "<class 'str'>\n",
      "2314895378416\n"
     ]
    }
   ],
   "source": [
    "this = f\"{12345678901123:,d}\"\n",
    "# print(f\"{12345678901123:,d}\")\n",
    "\n",
    "print(math.pi)\n",
    "print(f\"{math.pi:.9f}\")\n",
    "\n",
    "print(type(this))\n",
    "print(id(this))"
   ]
  },
  {
   "cell_type": "code",
   "execution_count": 4,
   "metadata": {},
   "outputs": [
    {
     "data": {
      "text/plain": [
       "3.113"
      ]
     },
     "execution_count": 4,
     "metadata": {},
     "output_type": "execute_result"
    }
   ],
   "source": [
    "\n",
    "round(3.11252,3)"
   ]
  },
  {
   "cell_type": "code",
   "execution_count": 6,
   "metadata": {},
   "outputs": [
    {
     "data": {
      "text/plain": [
       "'scott'"
      ]
     },
     "execution_count": 6,
     "metadata": {},
     "output_type": "execute_result"
    }
   ],
   "source": [
    "scotts_list =[1, 'scott', 2]\n",
    "# scotts_list\n",
    "scotts_list[1]"
   ]
  },
  {
   "cell_type": "code",
   "execution_count": 9,
   "metadata": {},
   "outputs": [
    {
     "data": {
      "text/plain": [
       "'is very'"
      ]
     },
     "execution_count": 9,
     "metadata": {},
     "output_type": "execute_result"
    }
   ],
   "source": [
    "test = (\"This class\", \"is very\", \"coolio\")\n",
    "\n",
    "result = test[-2]\n",
    "result"
   ]
  }
 ],
 "metadata": {
  "kernelspec": {
   "display_name": "intropy",
   "language": "python",
   "name": "python3"
  },
  "language_info": {
   "codemirror_mode": {
    "name": "ipython",
    "version": 3
   },
   "file_extension": ".py",
   "mimetype": "text/x-python",
   "name": "python",
   "nbconvert_exporter": "python",
   "pygments_lexer": "ipython3",
   "version": "3.12.8"
  }
 },
 "nbformat": 4,
 "nbformat_minor": 2
}
