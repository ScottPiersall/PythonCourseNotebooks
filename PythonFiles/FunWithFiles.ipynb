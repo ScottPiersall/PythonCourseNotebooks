{
 "cells": [
  {
   "cell_type": "code",
   "execution_count": null,
   "metadata": {},
   "outputs": [],
   "source": [
    "#\n",
    "# Scott's Fun With Files!\n",
    "#\n"
   ]
  },
  {
   "cell_type": "code",
   "execution_count": 43,
   "metadata": {},
   "outputs": [
    {
     "name": "stdout",
     "output_type": "stream",
     "text": [
      "['The previous line was blank\\n', '\\n', 'but it is a file\\n', 'Its not a very complicated file\\n', \"This is scott's file\\n\"]\n"
     ]
    }
   ],
   "source": [
    "\n",
    "myfilename = \"scotts.txt\"\n",
    "\n",
    "try:\n",
    "    scotts_file = open(myfilename)\n",
    "\n",
    "except:\n",
    "    print(\"You made a mistake. I cant open \" + myfilename)\n",
    "\n",
    "\n",
    "#everything_list = scotts_file.readlines()\n",
    "#blob = scotts_file.read()\n",
    "\n",
    "\n",
    "# Read line by line\n",
    "line = \"\"\n",
    "\n",
    "#for line in scotts_file:\n",
    "#    print(line)\n",
    "\n",
    "\n",
    "#\n",
    "# Write the code to create a file called backwardsscott.txt\n",
    "#\n",
    "#----------------------------------------------------------\n",
    "\n",
    "lines_list = scotts_file.readlines()\n",
    "\n",
    "\n",
    "output_file = open(\"backwardscott.txt\", \"a\")\n",
    "lines_list.reverse()\n",
    "\n",
    "output_file.writelines(lines_list)\n",
    "\n",
    "#for line in lines_list:\n",
    "#    output_file.write(line)\n",
    "\n",
    "scotts_file.close()\n",
    "output_file.close()\n",
    "#everything_list\n",
    "#blob\n",
    "#line\n",
    "print(lines_list)\n",
    "\n",
    "\n",
    "\n",
    "\n",
    "\n",
    "\n"
   ]
  },
  {
   "cell_type": "code",
   "execution_count": 39,
   "metadata": {},
   "outputs": [],
   "source": [
    "#\n",
    "# Write a python function that receives a string as an argument and returns the size of the file in bytes!\n",
    "#\n",
    "# Oh..if the filename does not exist, return -1\n",
    "def FileSize( filename ):\n",
    "    try:\n",
    "        myfile = open(filename, \"r\")\n",
    "    except:\n",
    "        return -1    \n",
    "    size = 0\n",
    "    lines_list = myfile.readlines()\n",
    "    for line in lines_list:\n",
    "        size += len(line)\n",
    "    myfile.close()\n",
    "    return size    \n",
    "    \n",
    "\n",
    "\n",
    "\n",
    "\n",
    "\n"
   ]
  },
  {
   "cell_type": "code",
   "execution_count": 45,
   "metadata": {},
   "outputs": [
    {
     "name": "stdout",
     "output_type": "stream",
     "text": [
      "396\n"
     ]
    }
   ],
   "source": [
    "reversedfile = \"backwardscott.txt\"\n",
    "print( FileSize(reversedfile))\n",
    "\n"
   ]
  }
 ],
 "metadata": {
  "kernelspec": {
   "display_name": "intropy",
   "language": "python",
   "name": "python3"
  },
  "language_info": {
   "codemirror_mode": {
    "name": "ipython",
    "version": 3
   },
   "file_extension": ".py",
   "mimetype": "text/x-python",
   "name": "python",
   "nbconvert_exporter": "python",
   "pygments_lexer": "ipython3",
   "version": "3.12.8"
  }
 },
 "nbformat": 4,
 "nbformat_minor": 2
}
