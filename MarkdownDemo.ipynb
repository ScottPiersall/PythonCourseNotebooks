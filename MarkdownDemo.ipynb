{
 "cells": [
  {
   "cell_type": "markdown",
   "metadata": {},
   "source": [
    "# Scott Piersall\n",
    "\n",
    "## Project 1\n",
    "\n",
    "<img src=\"ScottP.JPG\">\n",
    "\n",
    "\n",
    "\n",
    "\n"
   ]
  },
  {
   "cell_type": "code",
   "execution_count": 1,
   "metadata": {},
   "outputs": [
    {
     "data": {
      "text/plain": [
       "2.0"
      ]
     },
     "execution_count": 1,
     "metadata": {},
     "output_type": "execute_result"
    }
   ],
   "source": [
    "a = 6\n",
    "b = 3\n",
    "a/b"
   ]
  },
  {
   "cell_type": "code",
   "execution_count": 15,
   "metadata": {},
   "outputs": [
    {
     "name": "stdout",
     "output_type": "stream",
     "text": [
      "They are NOT equal\n",
      "All done\n"
     ]
    }
   ],
   "source": [
    "a = 6\n",
    "b = 5\n",
    "c = 7\n",
    "if a == b:\n",
    "    print(\"They are equal\")\n",
    "    if c == 7:\n",
    "        print(\"C is seven\")\n",
    "    else:\n",
    "        print(\"C is not seven\")\n",
    "else:\n",
    "    print(\"They are NOT equal\")    \n",
    "\n",
    "print(\"All done\")\n",
    "\n",
    "\n",
    "\n"
   ]
  },
  {
   "cell_type": "code",
   "execution_count": 28,
   "metadata": {},
   "outputs": [
    {
     "name": "stdout",
     "output_type": "stream",
     "text": [
      "First\n",
      "3.5\n",
      "4\n",
      "27\n",
      "Piersall\n",
      "---Now using range ---\n",
      "First\n",
      "3.5\n",
      "4\n",
      "27\n",
      "Piersall\n",
      "---Now with a while loop --\n",
      "First\n",
      "3.5\n",
      "4\n",
      "27\n",
      "Piersall\n",
      "-------------using enumerate -----\n",
      "0 First\n",
      "1 3.5\n",
      "2 4\n",
      "3 27\n",
      "4 Piersall\n",
      "First\n",
      "3.5\n",
      "4\n",
      "27\n",
      "Piersall\n"
     ]
    },
    {
     "data": {
      "text/plain": [
       "[None, None, None, None, None]"
      ]
     },
     "execution_count": 28,
     "metadata": {},
     "output_type": "execute_result"
    }
   ],
   "source": [
    "#\n",
    "# Write a code sample to loop through all elements in a python list.....\n",
    "#\n",
    "#\n",
    "scotts_list = [\"First\", 3.5, 4, 27, \"Piersall\"]\n",
    "for item in scotts_list:\n",
    "    print(item)\n",
    "print(\"---Now using range ---\")\n",
    "for ritem in range(  len(scotts_list) ):\n",
    "    print( scotts_list[ritem]  )\n",
    "print(\"---Now with a while loop --\")\n",
    "index = 0\n",
    "while index < len(scotts_list):\n",
    "    print(scotts_list[index])\n",
    "    index = index + 1\n",
    "#\n",
    "# We often need the index and value when enumerating through a list\n",
    "#\n",
    "print(\"-------------using enumerate -----\")\n",
    "for index, value in enumerate(scotts_list):\n",
    "    print(index, value)\n",
    "#\n",
    "#\n",
    "#\n",
    "#\n",
    "[print(value) for value in scotts_list]\n",
    "\n",
    "\n",
    "\n",
    "\n",
    "\n",
    "\n"
   ]
  },
  {
   "cell_type": "code",
   "execution_count": 29,
   "metadata": {},
   "outputs": [
    {
     "name": "stdout",
     "output_type": "stream",
     "text": [
      "[1, 3, 5, 7, 9, 11, 13, 15, 17, 19, 21, 23, 25, 27, 29, 31, 33, 35, 37, 39, 41, 43, 45, 47, 49, 51, 53, 55, 57, 59, 61, 63, 65, 67, 69, 71, 73, 75, 77, 79, 81, 83, 85, 87, 89, 91]\n"
     ]
    }
   ],
   "source": [
    "#\n",
    "# Create a python list that contains all odd integers between 1 and 91\n",
    "#\n",
    "#\n",
    "my_list = list( range( 1, 93, 2  )   )\n",
    "print(my_list)\n",
    "\n"
   ]
  },
  {
   "cell_type": "code",
   "execution_count": 30,
   "metadata": {},
   "outputs": [
    {
     "name": "stdout",
     "output_type": "stream",
     "text": [
      "0\n",
      "1\n",
      "2\n",
      "4\n"
     ]
    }
   ],
   "source": [
    "for i in range(5):\n",
    "   if i == 3:\n",
    "       continue\n",
    "   print(i)"
   ]
  },
  {
   "cell_type": "code",
   "execution_count": 31,
   "metadata": {},
   "outputs": [
    {
     "name": "stdout",
     "output_type": "stream",
     "text": [
      "3\n"
     ]
    }
   ],
   "source": [
    "x = 0\n",
    "a = 5\n",
    "b = 5\n",
    "if a > 0:\n",
    "    if b < 0: \n",
    "        x = x + 5 \n",
    "    elif a > 5:\n",
    "        x = x + 4\n",
    "    else:\n",
    "        x = x + 3\n",
    "else:\n",
    "    x = x + 2\n",
    "print(x)"
   ]
  },
  {
   "cell_type": "code",
   "execution_count": 32,
   "metadata": {},
   "outputs": [
    {
     "name": "stdout",
     "output_type": "stream",
     "text": [
      "21\n"
     ]
    }
   ],
   "source": [
    "var = 10\n",
    "for i in range(10):\n",
    "    for j in range(2, 10, 1):\n",
    "        if var % 2 == 0:\n",
    "            continue\n",
    "            var += 1\n",
    "    var+=1\n",
    "else:\n",
    "    var+=1\n",
    "print(var)"
   ]
  }
 ],
 "metadata": {
  "kernelspec": {
   "display_name": "intropy",
   "language": "python",
   "name": "python3"
  },
  "language_info": {
   "codemirror_mode": {
    "name": "ipython",
    "version": 3
   },
   "file_extension": ".py",
   "mimetype": "text/x-python",
   "name": "python",
   "nbconvert_exporter": "python",
   "pygments_lexer": "ipython3",
   "version": "3.12.8"
  }
 },
 "nbformat": 4,
 "nbformat_minor": 2
}
