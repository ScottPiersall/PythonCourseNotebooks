{
 "cells": [
  {
   "cell_type": "code",
   "execution_count": null,
   "metadata": {},
   "outputs": [],
   "source": [
    "# Fun and Excitiong\n",
    "# Python Dictionary Challenges with Scott\n",
    "#\n"
   ]
  },
  {
   "cell_type": "code",
   "execution_count": null,
   "metadata": {},
   "outputs": [
    {
     "name": "stdout",
     "output_type": "stream",
     "text": [
      "{'One': 1, 'Two': 2, 'Three': 3, 'four': 4, 'five': 5, 'six': 6, 'seven': 7, 'eight': 8}\n"
     ]
    }
   ],
   "source": [
    "#\n",
    "# Merge Python Lists into a dictionary\n",
    "#  Using Iteration\n",
    "scottskeys = [\"One\", \"Two\", \"Three\", \"four\", \"five\", \"six\", \"seven\", \"eight\"]\n",
    "scottsvalues = [1, 2, 3, 4, 5, 6, 7, 8]\n",
    "\n",
    "scotts_dictionary = dict()\n",
    "for index in range(    len(scottskeys)                 ):\n",
    "    scotts_dictionary.update( {scottskeys[index]: scottsvalues[index] } )\n",
    "print(scotts_dictionary)\n"
   ]
  },
  {
   "cell_type": "code",
   "execution_count": 2,
   "metadata": {},
   "outputs": [
    {
     "name": "stdout",
     "output_type": "stream",
     "text": [
      "{'One': 1, 'Two': 2, 'Three': 3, 'four': 4, 'five': 5, 'six': 6, 'seven': 7, 'eight': 8}\n"
     ]
    }
   ],
   "source": [
    "#\n",
    "# Merge Python Lists into a dictionary\n",
    "#  Using zip\n",
    "scottskeys = [\"One\", \"Two\", \"Three\", \"four\", \"five\", \"six\", \"seven\", \"eight\"]\n",
    "scottsvalues = [1, 2, 3, 4, 5, 6, 7, 8]\n",
    "\n",
    "scotts_dictionary = dict( zip( scottskeys, scottsvalues)    )\n",
    "\n",
    "print(scotts_dictionary)"
   ]
  },
  {
   "cell_type": "code",
   "execution_count": 4,
   "metadata": {},
   "outputs": [
    {
     "name": "stdout",
     "output_type": "stream",
     "text": [
      "{'Ten': 10, 'Twenty': 20, 'Thirty': 30, 'Forty': 40, 'Fifty': 50}\n"
     ]
    }
   ],
   "source": [
    "#Merge these into one new dictionary\n",
    "#-----------------------------------\n",
    "dictionary1 = {'Ten': 10, 'Twenty': 20, 'Thirty': 30}\n",
    "dictionary2 = {'Ten': 10, 'Thirty': 30, 'Forty': 40, 'Fifty': 50}\n",
    "\n",
    "combined_dictionary =  dictionary1.copy()\n",
    "combined_dictionary.update( dictionary2)\n",
    "\n",
    "\n",
    "print(combined_dictionary)"
   ]
  },
  {
   "cell_type": "code",
   "execution_count": 7,
   "metadata": {},
   "outputs": [
    {
     "name": "stdout",
     "output_type": "stream",
     "text": [
      "{'Ten': 10, 'Twenty': 20, 'Thirty': 30, 'Forty': 40, 'Fifty': 50}\n"
     ]
    }
   ],
   "source": [
    "dictionary1 = {'Ten': 10, 'Twenty': 20, 'Thirty': 30}\n",
    "dictionary2 = {'Ten': 10, 'Thirty': 30, 'Forty': 40, 'Fifty': 50}\n",
    "\n",
    "combined_dictionary = {  **dictionary1, **dictionary2  }\n",
    "print(combined_dictionary)\n",
    "\n",
    "\n"
   ]
  },
  {
   "cell_type": "code",
   "execution_count": 10,
   "metadata": {},
   "outputs": [
    {
     "name": "stdout",
     "output_type": "stream",
     "text": [
      "{'name': 'Scott', 'age': 29, 'salary': 800000, 'place': 'Jacksonville'}\n"
     ]
    }
   ],
   "source": [
    "#-- Rename key city to place\n",
    "#\n",
    "scotts_dict = {\n",
    "  \"name\": \"Scott\",\n",
    "  \"age\": 29,\n",
    "  \"salary\": 800000,\n",
    "  \"city\": \"Jacksonville\"\n",
    "}\n",
    "# desired output should be:\n",
    "# {'name': 'Scott', 'age': 29, 'salary': 800000, 'place': 'Jacksonville'}\n",
    "\n",
    "# What I REALLY NEED to do here is:\n",
    "# 1. Remove city\n",
    "# 2. add place\n",
    "\n",
    "scotts_dict[\"place\"] = scotts_dict.pop('city')\n",
    "\n",
    "\n",
    "\n",
    "print(scotts_dict)\n",
    "\n",
    "\n"
   ]
  }
 ],
 "metadata": {
  "kernelspec": {
   "display_name": "intropy",
   "language": "python",
   "name": "python3"
  },
  "language_info": {
   "codemirror_mode": {
    "name": "ipython",
    "version": 3
   },
   "file_extension": ".py",
   "mimetype": "text/x-python",
   "name": "python",
   "nbconvert_exporter": "python",
   "pygments_lexer": "ipython3",
   "version": "3.12.8"
  }
 },
 "nbformat": 4,
 "nbformat_minor": 2
}
