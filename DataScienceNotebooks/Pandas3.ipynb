{
 "cells": [
  {
   "cell_type": "code",
   "execution_count": 1,
   "metadata": {},
   "outputs": [],
   "source": [
    "import pandas as pd\n",
    "import requests\n",
    "from io import StringIO\n",
    "import matplotlib.pyplot as plt\n"
   ]
  },
  {
   "cell_type": "code",
   "execution_count": 8,
   "metadata": {},
   "outputs": [
    {
     "data": {
      "text/plain": [
       "'EmployeeID,LastName,FirstName,Department,Salary\\r\\n101,Hugnkiss,Amanda,HR,32000\\r\\n102,Coholic,Al,Technology,80000\\r\\n103,Thyme,Justin,CustomerService,28000\\r\\n104,Nazeum,Jim,Safety,550a00\\r\\n105,Zahut,Pete,FoodService,31000\\r\\n106,Andropov,Pikup,Transportation,23000\\r\\n107,Feingold,Howie,HR,51000\\r\\n108,Power,Max,C-Suite,225000\\r\\n109,Simpson,Homer,Safety,32000\\r\\n110,Wagon,Chuck,CustomerService,33000\\r\\n111,Power,Will,Safety,29z000\\r\\n112,Case,Justin,C-Suite,180000\\r\\n113,Ring,Wanda,Sales,45000\\r\\n114,Druff,Dan,Sales,77000\\r\\n115,King,Lee,Technology,83500\\r\\n116,Torious,Vic,Sales,75000\\r\\n117,Lee,Zack,CustomerService,285y00\\r\\n118,Hanger,Cliff,CustomerSvc,35000\\r\\n119,Clear,Crystal,Technology,85000\\r\\n120,Bull,Terry,Technology,77500\\r\\n'"
      ]
     },
     "execution_count": 8,
     "metadata": {},
     "output_type": "execute_result"
    }
   ],
   "source": [
    "url = 'https://pages.ospreys.biz/~scottp/employees.csv'\n",
    "#url = 'https://www.ospreys.biz/datasets/employees.csv'\n",
    "r = requests.get( url)\n",
    "\n",
    "r.text"
   ]
  },
  {
   "cell_type": "code",
   "execution_count": 9,
   "metadata": {},
   "outputs": [],
   "source": [
    "df = pd.read_csv( StringIO(r.text))\n",
    "\n"
   ]
  },
  {
   "cell_type": "code",
   "execution_count": 47,
   "metadata": {},
   "outputs": [],
   "source": [
    "df.at[3, 'Salary'] = 55000\n",
    "df.at[10, 'Salary'] = 29000\n",
    "df.at[16, 'Salary'] = 28500\n",
    "\n",
    "df.at[17, 'Department'] = 'CustomerService'\n"
   ]
  },
  {
   "cell_type": "code",
   "execution_count": 48,
   "metadata": {},
   "outputs": [
    {
     "data": {
      "text/html": [
       "<div>\n",
       "<style scoped>\n",
       "    .dataframe tbody tr th:only-of-type {\n",
       "        vertical-align: middle;\n",
       "    }\n",
       "\n",
       "    .dataframe tbody tr th {\n",
       "        vertical-align: top;\n",
       "    }\n",
       "\n",
       "    .dataframe thead th {\n",
       "        text-align: right;\n",
       "    }\n",
       "</style>\n",
       "<table border=\"1\" class=\"dataframe\">\n",
       "  <thead>\n",
       "    <tr style=\"text-align: right;\">\n",
       "      <th></th>\n",
       "      <th>EmployeeID</th>\n",
       "      <th>LastName</th>\n",
       "      <th>FirstName</th>\n",
       "      <th>Department</th>\n",
       "      <th>Salary</th>\n",
       "    </tr>\n",
       "  </thead>\n",
       "  <tbody>\n",
       "    <tr>\n",
       "      <th>0</th>\n",
       "      <td>101</td>\n",
       "      <td>Hugnkiss</td>\n",
       "      <td>Amanda</td>\n",
       "      <td>HR</td>\n",
       "      <td>32000</td>\n",
       "    </tr>\n",
       "    <tr>\n",
       "      <th>1</th>\n",
       "      <td>102</td>\n",
       "      <td>Coholic</td>\n",
       "      <td>Al</td>\n",
       "      <td>Technology</td>\n",
       "      <td>80000</td>\n",
       "    </tr>\n",
       "    <tr>\n",
       "      <th>2</th>\n",
       "      <td>103</td>\n",
       "      <td>Thyme</td>\n",
       "      <td>Justin</td>\n",
       "      <td>CustomerService</td>\n",
       "      <td>28000</td>\n",
       "    </tr>\n",
       "    <tr>\n",
       "      <th>3</th>\n",
       "      <td>104</td>\n",
       "      <td>Nazeum</td>\n",
       "      <td>Jim</td>\n",
       "      <td>Safety</td>\n",
       "      <td>55000</td>\n",
       "    </tr>\n",
       "    <tr>\n",
       "      <th>4</th>\n",
       "      <td>105</td>\n",
       "      <td>Zahut</td>\n",
       "      <td>Pete</td>\n",
       "      <td>FoodService</td>\n",
       "      <td>31000</td>\n",
       "    </tr>\n",
       "    <tr>\n",
       "      <th>5</th>\n",
       "      <td>106</td>\n",
       "      <td>Andropov</td>\n",
       "      <td>Pikup</td>\n",
       "      <td>Transportation</td>\n",
       "      <td>23000</td>\n",
       "    </tr>\n",
       "    <tr>\n",
       "      <th>6</th>\n",
       "      <td>107</td>\n",
       "      <td>Feingold</td>\n",
       "      <td>Howie</td>\n",
       "      <td>HR</td>\n",
       "      <td>51000</td>\n",
       "    </tr>\n",
       "    <tr>\n",
       "      <th>7</th>\n",
       "      <td>108</td>\n",
       "      <td>Power</td>\n",
       "      <td>Max</td>\n",
       "      <td>C-Suite</td>\n",
       "      <td>225000</td>\n",
       "    </tr>\n",
       "    <tr>\n",
       "      <th>8</th>\n",
       "      <td>109</td>\n",
       "      <td>Simpson</td>\n",
       "      <td>Homer</td>\n",
       "      <td>Safety</td>\n",
       "      <td>32000</td>\n",
       "    </tr>\n",
       "    <tr>\n",
       "      <th>9</th>\n",
       "      <td>110</td>\n",
       "      <td>Wagon</td>\n",
       "      <td>Chuck</td>\n",
       "      <td>CustomerService</td>\n",
       "      <td>33000</td>\n",
       "    </tr>\n",
       "    <tr>\n",
       "      <th>10</th>\n",
       "      <td>111</td>\n",
       "      <td>Power</td>\n",
       "      <td>Will</td>\n",
       "      <td>Safety</td>\n",
       "      <td>29000</td>\n",
       "    </tr>\n",
       "    <tr>\n",
       "      <th>11</th>\n",
       "      <td>112</td>\n",
       "      <td>Case</td>\n",
       "      <td>Justin</td>\n",
       "      <td>C-Suite</td>\n",
       "      <td>180000</td>\n",
       "    </tr>\n",
       "    <tr>\n",
       "      <th>12</th>\n",
       "      <td>113</td>\n",
       "      <td>Ring</td>\n",
       "      <td>Wanda</td>\n",
       "      <td>Sales</td>\n",
       "      <td>45000</td>\n",
       "    </tr>\n",
       "    <tr>\n",
       "      <th>13</th>\n",
       "      <td>114</td>\n",
       "      <td>Druff</td>\n",
       "      <td>Dan</td>\n",
       "      <td>Sales</td>\n",
       "      <td>77000</td>\n",
       "    </tr>\n",
       "    <tr>\n",
       "      <th>14</th>\n",
       "      <td>115</td>\n",
       "      <td>King</td>\n",
       "      <td>Lee</td>\n",
       "      <td>Technology</td>\n",
       "      <td>83500</td>\n",
       "    </tr>\n",
       "    <tr>\n",
       "      <th>15</th>\n",
       "      <td>116</td>\n",
       "      <td>Torious</td>\n",
       "      <td>Vic</td>\n",
       "      <td>Sales</td>\n",
       "      <td>75000</td>\n",
       "    </tr>\n",
       "    <tr>\n",
       "      <th>16</th>\n",
       "      <td>117</td>\n",
       "      <td>Lee</td>\n",
       "      <td>Zack</td>\n",
       "      <td>CustomerService</td>\n",
       "      <td>28500</td>\n",
       "    </tr>\n",
       "    <tr>\n",
       "      <th>17</th>\n",
       "      <td>118</td>\n",
       "      <td>Hanger</td>\n",
       "      <td>Cliff</td>\n",
       "      <td>CustomerService</td>\n",
       "      <td>35000</td>\n",
       "    </tr>\n",
       "    <tr>\n",
       "      <th>18</th>\n",
       "      <td>119</td>\n",
       "      <td>Clear</td>\n",
       "      <td>Crystal</td>\n",
       "      <td>Technology</td>\n",
       "      <td>85000</td>\n",
       "    </tr>\n",
       "    <tr>\n",
       "      <th>19</th>\n",
       "      <td>120</td>\n",
       "      <td>Bull</td>\n",
       "      <td>Terry</td>\n",
       "      <td>Technology</td>\n",
       "      <td>77500</td>\n",
       "    </tr>\n",
       "  </tbody>\n",
       "</table>\n",
       "</div>"
      ],
      "text/plain": [
       "    EmployeeID  LastName FirstName       Department  Salary\n",
       "0          101  Hugnkiss    Amanda               HR   32000\n",
       "1          102   Coholic        Al       Technology   80000\n",
       "2          103     Thyme    Justin  CustomerService   28000\n",
       "3          104    Nazeum       Jim           Safety   55000\n",
       "4          105     Zahut      Pete      FoodService   31000\n",
       "5          106  Andropov     Pikup   Transportation   23000\n",
       "6          107  Feingold     Howie               HR   51000\n",
       "7          108     Power       Max          C-Suite  225000\n",
       "8          109   Simpson     Homer           Safety   32000\n",
       "9          110     Wagon     Chuck  CustomerService   33000\n",
       "10         111     Power      Will           Safety   29000\n",
       "11         112      Case    Justin          C-Suite  180000\n",
       "12         113      Ring     Wanda            Sales   45000\n",
       "13         114     Druff       Dan            Sales   77000\n",
       "14         115      King       Lee       Technology   83500\n",
       "15         116   Torious       Vic            Sales   75000\n",
       "16         117       Lee      Zack  CustomerService   28500\n",
       "17         118    Hanger     Cliff  CustomerService   35000\n",
       "18         119     Clear   Crystal       Technology   85000\n",
       "19         120      Bull     Terry       Technology   77500"
      ]
     },
     "execution_count": 48,
     "metadata": {},
     "output_type": "execute_result"
    }
   ],
   "source": [
    "df"
   ]
  },
  {
   "cell_type": "code",
   "execution_count": 49,
   "metadata": {},
   "outputs": [
    {
     "data": {
      "text/plain": [
       "1305500"
      ]
     },
     "execution_count": 49,
     "metadata": {},
     "output_type": "execute_result"
    }
   ],
   "source": [
    "#df['Salary'] = df['Salary'].astype(int)\n",
    "\n",
    "\n",
    "df['Salary'].sum()"
   ]
  },
  {
   "cell_type": "code",
   "execution_count": 50,
   "metadata": {},
   "outputs": [],
   "source": [
    "salsumdf = df.groupby(['Department', ])['Salary'].sum()"
   ]
  },
  {
   "cell_type": "code",
   "execution_count": 51,
   "metadata": {},
   "outputs": [
    {
     "data": {
      "text/plain": [
       "Department\n",
       "C-Suite            405000\n",
       "CustomerService    124500\n",
       "FoodService         31000\n",
       "HR                  83000\n",
       "Safety             116000\n",
       "Sales              197000\n",
       "Technology         326000\n",
       "Transportation      23000\n",
       "Name: Salary, dtype: object"
      ]
     },
     "execution_count": 51,
     "metadata": {},
     "output_type": "execute_result"
    }
   ],
   "source": [
    "salsumdf"
   ]
  },
  {
   "cell_type": "code",
   "execution_count": 63,
   "metadata": {},
   "outputs": [
    {
     "data": {
      "image/png": "[encoded data removed]",
      "text/plain": [
       "<Figure size 640x480 with 1 Axes>"
      ]
     },
     "metadata": {},
     "output_type": "display_data"
    }
   ],
   "source": [
    "\n",
    "#plt.pie(salsumdf, labels=salsumdf.index,autopct='%1.1f%%', shadow=True )\n",
    "plt.pie(salsumdf, autopct='%1.1f%%', shadow=True )\n",
    "\n",
    "plt.title('Total Salary by Department')\n",
    "plt.axis('equal')\n",
    "labels = salsumdf.index\n",
    "plt.legend(labels, title='Salary by Department', loc='lower left' )\n",
    "\n",
    "\n",
    "\n",
    "\n",
    "\n",
    "plt.savefig('salary_by_dept_pie_chart.png', dpi=300, transparent=True)\n",
    "\n",
    "\n",
    "\n",
    "\n"
   ]
  }
 ],
 "metadata": {
  "kernelspec": {
   "display_name": "intropydatascience",
   "language": "python",
   "name": "python3"
  },
  "language_info": {
   "codemirror_mode": {
    "name": "ipython",
    "version": 3
   },
   "file_extension": ".py",
   "mimetype": "text/x-python",
   "name": "python",
   "nbconvert_exporter": "python",
   "pygments_lexer": "ipython3",
   "version": "3.12.8"
  }
 },
 "nbformat": 4,
 "nbformat_minor": 2
}
